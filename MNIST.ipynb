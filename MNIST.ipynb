{
 "cells": [
  {
   "cell_type": "markdown",
   "id": "ce6b1127",
   "metadata": {},
   "source": [
    "# Classification\n",
    "\n",
    "\n",
    "\n",
    "\n",
    "## Description\n",
    "\n",
    "For this project we'll be building a number of classification machine learning models and see how they perform on the famous MNIST dataset. **WARNING: this whole jupyter notebook can take over an hour to run but that is mostly just the last two cells.** \n",
    "\n",
    "### Setup\n",
    "\n",
    "Some basic setup things to get started."
   ]
  },
  {
   "cell_type": "code",
   "execution_count": 1,
   "id": "bcb96873",
   "metadata": {},
   "outputs": [],
   "source": [
    "# Python ≥3.5 is required\n",
    "import sys\n",
    "assert sys.version_info >= (3, 5)\n",
    "\n",
    "# Is this notebook running on Colab or Kaggle?\n",
    "IS_COLAB = \"google.colab\" in sys.modules\n",
    "IS_KAGGLE = \"kaggle_secrets\" in sys.modules\n",
    "\n",
    "# Scikit-Learn ≥0.20 is required\n",
    "import sklearn\n",
    "assert sklearn.__version__ >= \"0.20\"\n",
    "\n",
    "# Common imports\n",
    "import numpy as np\n",
    "import os\n",
    "\n",
    "# to make this notebook's output stable across runs\n",
    "np.random.seed(42)\n",
    "\n",
    "# To plot pretty figures\n",
    "%matplotlib inline\n",
    "import matplotlib as mpl\n",
    "import matplotlib.pyplot as plt\n",
    "mpl.rc('axes', labelsize=14)\n",
    "mpl.rc('xtick', labelsize=12)\n",
    "mpl.rc('ytick', labelsize=12)\n",
    "\n",
    "# Where to save the figures\n",
    "PROJECT_ROOT_DIR = \".\"\n",
    "CHAPTER_ID = \"classification\"\n",
    "IMAGES_PATH = os.path.join(PROJECT_ROOT_DIR, \"images\", CHAPTER_ID)\n",
    "os.makedirs(IMAGES_PATH, exist_ok=True)\n",
    "\n",
    "def save_fig(fig_id, tight_layout=True, fig_extension=\"png\", resolution=300):\n",
    "    path = os.path.join(IMAGES_PATH, fig_id + \".\" + fig_extension)\n",
    "    print(\"Saving figure\", fig_id)\n",
    "    if tight_layout:\n",
    "        plt.tight_layout()\n",
    "    plt.savefig(path, format=fig_extension, dpi=resolution)"
   ]
  },
  {
   "cell_type": "markdown",
   "id": "eca0065d",
   "metadata": {},
   "source": [
    "### Fetch Data\n",
    "\n",
    "This project will work on the MNIST dataset. It is a set of data that comes with sklearn already and basically consists of handwritten numbers 0-9. These numbers were written by highschool kids and maybe some census employees. It is often called the \"Hello World\" of Machine Learning. There are 70,000 images (rows) each consisting of 784 features (columns). This dataset is fairly large so fair warning running this notebook might take some time here and there. \n",
    "\n",
    "The following code fetches this data from sklearn open datasets and shows the shape and an example image."
   ]
  },
  {
   "cell_type": "code",
   "execution_count": 2,
   "id": "4cc4f4f4",
   "metadata": {},
   "outputs": [
    {
     "data": {
      "text/plain": [
       "dict_keys(['data', 'target', 'frame', 'categories', 'feature_names', 'target_names', 'DESCR', 'details', 'url'])"
      ]
     },
     "execution_count": 2,
     "metadata": {},
     "output_type": "execute_result"
    }
   ],
   "source": [
    "from sklearn.datasets import fetch_openml\n",
    "mnist = fetch_openml('mnist_784', version=1, as_frame=False)\n",
    "mnist.keys()"
   ]
  },
  {
   "cell_type": "code",
   "execution_count": 3,
   "id": "ab968313",
   "metadata": {},
   "outputs": [
    {
     "data": {
      "text/plain": [
       "(70000, 784)"
      ]
     },
     "execution_count": 3,
     "metadata": {},
     "output_type": "execute_result"
    }
   ],
   "source": [
    "X, y = mnist[\"data\"], mnist[\"target\"]\n",
    "X.shape"
   ]
  },
  {
   "cell_type": "code",
   "execution_count": 4,
   "id": "37be2b4c",
   "metadata": {},
   "outputs": [
    {
     "data": {
      "text/plain": [
       "(70000,)"
      ]
     },
     "execution_count": 4,
     "metadata": {},
     "output_type": "execute_result"
    }
   ],
   "source": [
    "y.shape"
   ]
  },
  {
   "cell_type": "code",
   "execution_count": 5,
   "id": "7083b4a7",
   "metadata": {},
   "outputs": [
    {
     "data": {
      "text/plain": [
       "28.0"
      ]
     },
     "execution_count": 5,
     "metadata": {},
     "output_type": "execute_result"
    }
   ],
   "source": [
    "np.sqrt(784)"
   ]
  },
  {
   "cell_type": "code",
   "execution_count": 6,
   "id": "f952156e",
   "metadata": {},
   "outputs": [
    {
     "name": "stdout",
     "output_type": "stream",
     "text": [
      "Saving figure some_digit_plot\n"
     ]
    },
    {
     "data": {
      "image/png": "[encoded data removed]",
      "text/plain": [
       "<Figure size 432x288 with 1 Axes>"
      ]
     },
     "metadata": {
      "needs_background": "light"
     },
     "output_type": "display_data"
    }
   ],
   "source": [
    "%matplotlib inline\n",
    "import matplotlib as mpl\n",
    "import matplotlib.pyplot as plt\n",
    "\n",
    "some_digit = X[0]\n",
    "some_digit_image = some_digit.reshape(28, 28)\n",
    "plt.imshow(some_digit_image, cmap=mpl.cm.binary)\n",
    "plt.axis(\"off\")\n",
    "\n",
    "save_fig(\"some_digit_plot\")\n",
    "plt.show()"
   ]
  },
  {
   "cell_type": "code",
   "execution_count": 7,
   "id": "0649a6b2",
   "metadata": {},
   "outputs": [
    {
     "data": {
      "text/plain": [
       "'5'"
      ]
     },
     "execution_count": 7,
     "metadata": {},
     "output_type": "execute_result"
    }
   ],
   "source": [
    "y[0]"
   ]
  },
  {
   "cell_type": "code",
   "execution_count": 8,
   "id": "a9175acd",
   "metadata": {},
   "outputs": [],
   "source": [
    "y = y.astype(np.uint8)"
   ]
  },
  {
   "cell_type": "markdown",
   "id": "9b5f81cc",
   "metadata": {},
   "source": [
    "### Training a Binary Classifier\n",
    "\n",
    "First we'll break the dataset into test and train. Sklearn already splits it properly so all we need to do is assign the data to our variables. The dataset uses 60,000 as the train set and the remaining 10,000 is the test set. "
   ]
  },
  {
   "cell_type": "code",
   "execution_count": 9,
   "id": "9fa5544b",
   "metadata": {},
   "outputs": [],
   "source": [
    "X_train, X_test, y_train, y_test = X[:60000], X[60000:], y[:60000], y[60000:]"
   ]
  },
  {
   "cell_type": "code",
   "execution_count": 10,
   "id": "af346c44",
   "metadata": {},
   "outputs": [],
   "source": [
    "y_train_5 = (y_train ==5)\n",
    "y_test_5 = (y_test ==5)"
   ]
  },
  {
   "cell_type": "markdown",
   "id": "5cd76042",
   "metadata": {},
   "source": [
    "For the first binary classifier we'll use the SGD Classifier (Stochastic Gradient Descent). This model has an advantage of being pretty speedy so it is a great one to use on larger datasets."
   ]
  },
  {
   "cell_type": "code",
   "execution_count": 11,
   "id": "f9916fb3",
   "metadata": {},
   "outputs": [
    {
     "data": {
      "text/plain": [
       "SGDClassifier(random_state=42)"
      ]
     },
     "execution_count": 11,
     "metadata": {},
     "output_type": "execute_result"
    }
   ],
   "source": [
    "from sklearn.linear_model import SGDClassifier\n",
    "\n",
    "sgd_clf = SGDClassifier(random_state=42)\n",
    "sgd_clf.fit(X_train, y_train_5)"
   ]
  },
  {
   "cell_type": "markdown",
   "id": "caa5619f",
   "metadata": {},
   "source": [
    "Now that we have created this model let's test it out on some_digit from earlier."
   ]
  },
  {
   "cell_type": "code",
   "execution_count": 12,
   "id": "7e2cfd7f",
   "metadata": {},
   "outputs": [
    {
     "data": {
      "text/plain": [
       "array([ True])"
      ]
     },
     "execution_count": 12,
     "metadata": {},
     "output_type": "execute_result"
    }
   ],
   "source": [
    "sgd_clf.predict([some_digit])"
   ]
  },
  {
   "cell_type": "markdown",
   "id": "96a135f4",
   "metadata": {},
   "source": [
    "## Performance Measures\n",
    "\n",
    "### Measuring Accuracy using Cross-Validation"
   ]
  },
  {
   "cell_type": "code",
   "execution_count": 13,
   "id": "8a6a140a",
   "metadata": {},
   "outputs": [
    {
     "data": {
      "text/plain": [
       "array([0.95035, 0.96035, 0.9604 ])"
      ]
     },
     "execution_count": 13,
     "metadata": {},
     "output_type": "execute_result"
    }
   ],
   "source": [
    "from sklearn.model_selection import cross_val_score\n",
    "cross_val_score(sgd_clf, X_train, y_train_5, cv=3, scoring='accuracy')"
   ]
  },
  {
   "cell_type": "markdown",
   "id": "64824a47",
   "metadata": {},
   "source": [
    "### Confusion Matrix"
   ]
  },
  {
   "cell_type": "code",
   "execution_count": 14,
   "id": "7fb3f0b4",
   "metadata": {},
   "outputs": [],
   "source": [
    "from sklearn.model_selection import cross_val_predict\n",
    "\n",
    "y_train_pred = cross_val_predict(sgd_clf, X_train, y_train_5, cv=3)"
   ]
  },
  {
   "cell_type": "code",
   "execution_count": 15,
   "id": "42bc4e93",
   "metadata": {},
   "outputs": [
    {
     "data": {
      "text/plain": [
       "array([[53892,   687],\n",
       "       [ 1891,  3530]])"
      ]
     },
     "execution_count": 15,
     "metadata": {},
     "output_type": "execute_result"
    }
   ],
   "source": [
    "from sklearn.metrics import confusion_matrix\n",
    "\n",
    "confusion_matrix(y_train_5, y_train_pred)"
   ]
  },
  {
   "cell_type": "markdown",
   "id": "2414d6be",
   "metadata": {},
   "source": [
    "In this example: \n",
    "* 53892 results correctly classified as non 5's (true negative)\n",
    "* 687 results wrongly classified as 5's (false positives)\n",
    "* 1891 results wrongly classified as non 5's (false negatives)\n",
    "* 3520 results correctly classified as 5's (true positives)\n",
    "    \n",
    "A perfect matrix would look like:"
   ]
  },
  {
   "cell_type": "code",
   "execution_count": 16,
   "id": "aeb495a0",
   "metadata": {},
   "outputs": [
    {
     "data": {
      "text/plain": [
       "array([[54579,     0],\n",
       "       [    0,  5421]])"
      ]
     },
     "execution_count": 16,
     "metadata": {},
     "output_type": "execute_result"
    }
   ],
   "source": [
    "y_train_perfect_predictions = y_train_5\n",
    "confusion_matrix(y_train_5, y_train_perfect_predictions)"
   ]
  },
  {
   "cell_type": "markdown",
   "id": "c15341c3",
   "metadata": {},
   "source": [
    "In this example of a perfect solution:\n",
    "\n",
    "* 54579 results correctly classified as non 5's (true negative)\n",
    "* 0 results wrongly classified as 5's (false positives)\n",
    "* 5421 results wrongly classified as non 5's (false negatives)\n",
    "* 0 results correctly classified as 5's (true positives)\n",
    "\n",
    "### Precision vs Recall\n",
    "\n",
    "A more concise way of showing this metric is the *precision* of the classifier. This is derived by:\n",
    "\n",
    "> precision = TP / ( TP + FP)\n",
    "\n",
    "TP is the number of true positives and FP is false positives. Precision is typically used alongside another metric called the *recall*, also known as *sensitivity* also known as *true positive rate*. This is derived by:\n",
    "\n",
    "> recall = TP / (TP + FN)\n",
    "\n",
    "sklearn.metrics has functions to calculate both of these metrics which we'll demonstrate here."
   ]
  },
  {
   "cell_type": "code",
   "execution_count": 17,
   "id": "c476837c",
   "metadata": {},
   "outputs": [
    {
     "name": "stdout",
     "output_type": "stream",
     "text": [
      "0.8370879772350012\n",
      "0.6511713705958311\n"
     ]
    }
   ],
   "source": [
    "from sklearn.metrics import precision_score, recall_score\n",
    "print(precision_score(y_train_5, y_train_pred))\n",
    "print(recall_score(y_train_5, y_train_pred))"
   ]
  },
  {
   "cell_type": "markdown",
   "id": "d65093d3",
   "metadata": {},
   "source": [
    "So when this model claims to have a 5 it is correct 84% of the time and only detects 65% of the 5s in the training set. \n",
    "\n",
    "We can combine the precision and recall scores into one metric called the F1 score (Fsubscript1). The F1 score is often the *Harmonic Mean* of precision and recall. This means it will give more weight to the low values. Therefore to have a high F1 score both the precision and recall scores must be high. The equation is as follows:\n",
    "\n",
    "> F1 =  2 * (precision * recall) / (precision + recall)\n",
    "\n",
    "In other words:\n",
    "\n",
    "> F1 = TP / (TP + ((FN + FP)/2))\n",
    "\n",
    "To calculate the F1 score we can simply call the function from sklearn."
   ]
  },
  {
   "cell_type": "code",
   "execution_count": 18,
   "id": "293ba7ad",
   "metadata": {},
   "outputs": [
    {
     "data": {
      "text/plain": [
       "0.7325171197343846"
      ]
     },
     "execution_count": 18,
     "metadata": {},
     "output_type": "execute_result"
    }
   ],
   "source": [
    "from sklearn.metrics import f1_score\n",
    "\n",
    "f1_score(y_train_5, y_train_pred)"
   ]
  },
  {
   "cell_type": "markdown",
   "id": "7c0249c0",
   "metadata": {},
   "source": [
    "### Precision/Recall Trade Off\n",
    "\n",
    "The precision recall trade off refers to the idea that these two measures are negatively correlated. Increasing the precision will decrease the recall and vice versa. Raising the threshold decreases the recall. To decide what threshold to use... \n",
    "\n",
    "Below is the process for choosing a threshold value."
   ]
  },
  {
   "cell_type": "code",
   "execution_count": 22,
   "id": "0e22f144",
   "metadata": {},
   "outputs": [
    {
     "data": {
      "image/png": "[encoded data removed]",
      "text/plain": [
       "<Figure size 432x288 with 1 Axes>"
      ]
     },
     "metadata": {
      "needs_background": "light"
     },
     "output_type": "display_data"
    }
   ],
   "source": [
    "# Call predict and change method to decision function\n",
    "# This gets the scores of all instances in the training set\n",
    "y_scores = cross_val_predict(sgd_clf, X_train, y_train_5, cv=3, method='decision_function')\n",
    "\n",
    "# Use the precision_recall_curve() to compute precision and recall for all possible thresholds\n",
    "from sklearn.metrics import precision_recall_curve\n",
    "\n",
    "precisions, recalls, thresholds = precision_recall_curve(y_train_5, y_scores)\n",
    "\n",
    "# Plot precision and recall as functions of the threshold value \n",
    "def plot_precision_recall_vs_threshold(precisions, recalls, thresholds):\n",
    "    plt.plot(thresholds, precisions[:-1], \"b--\", label=\"Precision\", linewidth=2)\n",
    "    plt.plot(thresholds, recalls[:-1], \"g-\", label=\"Recall\", linewidth=2)\n",
    "    plt.legend(loc=\"center right\", fontsize=16) # Not shown in the book\n",
    "    plt.xlabel(\"Threshold\", fontsize=16)        # Not shown\n",
    "    plt.grid(True)                              # Not shown\n",
    "    plt.axis([-50000, 50000, 0, 1])             # Not shown\n",
    "\n",
    "\n",
    "plot_precision_recall_vs_threshold(precisions, recalls, thresholds)\n",
    "plt.show()"
   ]
  },
  {
   "cell_type": "markdown",
   "id": "d64ce504",
   "metadata": {},
   "source": [
    "As we can see the crossover point occurs on a negative threshold and that may be the ideal spot to maximize both the precision and recall scores. However sometimes you may want a higher precision score or higher recall score depending on the use case. For example it may be more impactful to get some classifications wrong rather than getting more right etc so use with care. Another way for us to calculate a good precision recall trade off is to plot precision directly against recall. Code to do that shown below."
   ]
  },
  {
   "cell_type": "code",
   "execution_count": 24,
   "id": "f3f0ccd1",
   "metadata": {},
   "outputs": [
    {
     "name": "stdout",
     "output_type": "stream",
     "text": [
      "Saving figure precision_vs_recall_plot\n"
     ]
    },
    {
     "data": {
      "image/png": "[encoded data removed]",
      "text/plain": [
       "<Figure size 576x432 with 1 Axes>"
      ]
     },
     "metadata": {
      "needs_background": "light"
     },
     "output_type": "display_data"
    }
   ],
   "source": [
    "recall_90_precision = recalls[np.argmax(precisions >= 0.90)]\n",
    "threshold_90_precision = thresholds[np.argmax(precisions >= 0.90)]\n",
    "\n",
    "def plot_precision_vs_recall(precisions, recalls):\n",
    "    plt.plot(recalls, precisions, \"b-\", linewidth=2)\n",
    "    plt.xlabel(\"Recall\", fontsize=16)\n",
    "    plt.ylabel(\"Precision\", fontsize=16)\n",
    "    plt.axis([0, 1, 0, 1])\n",
    "    plt.grid(True)\n",
    "\n",
    "plt.figure(figsize=(8, 6))\n",
    "plot_precision_vs_recall(precisions, recalls)\n",
    "plt.plot([recall_90_precision, recall_90_precision], [0., 0.9], \"r:\")\n",
    "plt.plot([0.0, recall_90_precision], [0.9, 0.9], \"r:\")\n",
    "plt.plot([recall_90_precision], [0.9], \"ro\")\n",
    "save_fig(\"precision_vs_recall_plot\")\n",
    "plt.show()"
   ]
  },
  {
   "cell_type": "markdown",
   "id": "bb77180a",
   "metadata": {},
   "source": [
    "In this graph we can see that the precision scores drop off pretty hard at 0.5-0.6 range so ideally we should choose a point before that. Again the choice depends on what the project needs and how important false positives and false negatives etc are to the project at hand. Say one chooses to have a 90% precision this is how they would calculate the values needed to achieve that.  "
   ]
  },
  {
   "cell_type": "code",
   "execution_count": 25,
   "id": "e371befa",
   "metadata": {},
   "outputs": [
    {
     "name": "stdout",
     "output_type": "stream",
     "text": [
      "0.9000345901072293\n",
      "0.4799852425751706\n"
     ]
    }
   ],
   "source": [
    "y_train_pred_90 = (y_scores >= threshold_90_precision)\n",
    "\n",
    "print(precision_score(y_train_5, y_train_pred_90))\n",
    "\n",
    "print(recall_score(y_train_5, y_train_pred_90))"
   ]
  },
  {
   "cell_type": "markdown",
   "id": "12c77a02",
   "metadata": {},
   "source": [
    "This gives us a model with a 90% precision but the tradeoff is that the recall score is 48%\n",
    "\n",
    "\n",
    "### The ROC Curve\n",
    "\n",
    "The receiver operating curve (ROC Curve) is another tool used with binary classifiers. Similar to the precision recall plot except this time it is plotting recall against 1-recall. Another way to describe this is the *true positive rate* against the *false positive rate*. Another way to descibe this is *sensitivity* (recall) vs *1 - specificity*. Building this out is very easy. Below is the code to do this."
   ]
  },
  {
   "cell_type": "code",
   "execution_count": 26,
   "id": "c737d1f5",
   "metadata": {},
   "outputs": [
    {
     "name": "stdout",
     "output_type": "stream",
     "text": [
      "Saving figure roc_curve_plot\n"
     ]
    },
    {
     "data": {
      "image/png": "[encoded data removed]",
      "text/plain": [
       "<Figure size 576x432 with 1 Axes>"
      ]
     },
     "metadata": {
      "needs_background": "light"
     },
     "output_type": "display_data"
    }
   ],
   "source": [
    "# You can use the roc_curve function to compute the TPR and FPR for various threshold values.\n",
    "from sklearn.metrics import roc_curve\n",
    "\n",
    "fpr, tpr, thresholds = roc_curve(y_train_5, y_scores)\n",
    "\n",
    "# Now to plot the curve\n",
    "def plot_roc_curve(fpr, tpr, label=None):\n",
    "    plt.plot(fpr, tpr, linewidth=2, label=label)\n",
    "    plt.plot([0, 1], [0, 1], 'k--') # dashed diagonal\n",
    "    plt.axis([0, 1, 0, 1])                                    # Not shown in the book\n",
    "    plt.xlabel('False Positive Rate (Fall-Out)', fontsize=16) # Not shown\n",
    "    plt.ylabel('True Positive Rate (Recall)', fontsize=16)    # Not shown\n",
    "    plt.grid(True)                                            # Not shown\n",
    "\n",
    "plt.figure(figsize=(8, 6))                                    # Not shown\n",
    "plot_roc_curve(fpr, tpr)\n",
    "fpr_90 = fpr[np.argmax(tpr >= recall_90_precision)]           # Not shown\n",
    "plt.plot([fpr_90, fpr_90], [0., recall_90_precision], \"r:\")   # Not shown\n",
    "plt.plot([0.0, fpr_90], [recall_90_precision, recall_90_precision], \"r:\")  # Not shown\n",
    "plt.plot([fpr_90], [recall_90_precision], \"ro\")               # Not shown\n",
    "save_fig(\"roc_curve_plot\")                                    # Not shown\n",
    "plt.show()"
   ]
  },
  {
   "cell_type": "markdown",
   "id": "efdec762",
   "metadata": {},
   "source": [
    "As before there is another tradeoff. The higher the TPR the higher the FPR. The dotted line represents a completely random classifier (the worst possible model) and the goal is to be as far to the top left corner as possible. One way to compare classifiers is to take the area under the curve. A perfect classifier will have an area of 1 while a perfectly random model will have an area of 0.5. We can compute the area using the roc_auc_score function. The goal is to get to as close to 1 as possible. Before moving on to comparing two models using the ROC curve we should figure out which method to use (PR curve vs ROC curve). \n",
    "\n",
    "> As a rule of thumb, prefer the PR curve whenever the positive class is rare or when you care more about the false positives over the false negatives. Otherwise use the ROC curve.\n",
    "\n",
    "\n",
    "Below will be some code to train a RandomForestClassifier and we will compare it on a ROC curve to the current model (SGD classifier). "
   ]
  },
  {
   "cell_type": "code",
   "execution_count": 30,
   "id": "581de3c9",
   "metadata": {},
   "outputs": [
    {
     "name": "stdout",
     "output_type": "stream",
     "text": [
      "Saving figure roc_curve_comparison_plot\n"
     ]
    },
    {
     "data": {
      "image/png": "[encoded data removed]",
      "text/plain": [
       "<Figure size 576x432 with 1 Axes>"
      ]
     },
     "metadata": {
      "needs_background": "light"
     },
     "output_type": "display_data"
    }
   ],
   "source": [
    "# Important to note that Random Forest doesn't have a decision_function instead it has a predict prob method.\n",
    "# This method contains an array with the probability that something belongs to a given class\n",
    "# For example 70% chance this image is a 5\n",
    "from sklearn.ensemble import RandomForestClassifier\n",
    "\n",
    "forest_clf = RandomForestClassifier(random_state=42)\n",
    "y_probas_forest = cross_val_predict(forest_clf, X_train, y_train_5, cv=3, method='predict_proba')\n",
    "\n",
    "# roc_curve function expects labels and scores but instead we can give it class probabilities\n",
    "y_scores_forest = y_probas_forest[:, 1] # score = proba of a given class\n",
    "fpr_forest, tpr_forest, thresholds_forest = roc_curve(y_train_5, y_scores_forest)\n",
    "\n",
    "# Now to plot it all out\n",
    "recall_for_forest = tpr_forest[np.argmax(fpr_forest >= fpr_90)]\n",
    "\n",
    "plt.figure(figsize=(8, 6))\n",
    "plt.plot(fpr, tpr, \"b:\", linewidth=2, label=\"SGD\")\n",
    "plot_roc_curve(fpr_forest, tpr_forest, \"Random Forest\")\n",
    "plt.plot([fpr_90, fpr_90], [0., recall_90_precision], \"r:\")\n",
    "plt.plot([0.0, fpr_90], [recall_90_precision, recall_90_precision], \"r:\")\n",
    "plt.plot([fpr_90], [recall_90_precision], \"ro\")\n",
    "plt.plot([fpr_90, fpr_90], [0., recall_for_forest], \"r:\")\n",
    "plt.plot([fpr_90], [recall_for_forest], \"ro\")\n",
    "plt.grid(True)\n",
    "plt.legend(loc=\"lower right\", fontsize=16)\n",
    "save_fig(\"roc_curve_comparison_plot\")\n",
    "plt.show()"
   ]
  },
  {
   "cell_type": "markdown",
   "id": "c36e2101",
   "metadata": {},
   "source": [
    "From this graph we can see that the Random Forest Classifier model is stronger than the SGD classifier as it is closer to the top left corner. Let's check the AUC score to be sure."
   ]
  },
  {
   "cell_type": "code",
   "execution_count": 33,
   "id": "9528f1ea",
   "metadata": {},
   "outputs": [
    {
     "name": "stdout",
     "output_type": "stream",
     "text": [
      "0.9604938554008616\n",
      "0.9983436731328145\n"
     ]
    }
   ],
   "source": [
    "from sklearn.metrics import roc_auc_score\n",
    "\n",
    "print(roc_auc_score(y_train_5, y_scores))\n",
    "print(roc_auc_score(y_train_5, y_scores_forest))"
   ]
  },
  {
   "cell_type": "markdown",
   "id": "d1858f36",
   "metadata": {},
   "source": [
    "As we can see here the AUC score for the Random Forest is higher than the score fpr the SGD classifier. Since it is closer to one it must be the better model."
   ]
  },
  {
   "cell_type": "markdown",
   "id": "98e6a198",
   "metadata": {},
   "source": [
    "## Multiclass Classification\n",
    "\n",
    "The previous models could only tell us whether an image was a 5 or not a 5. To train a model to read 0-9 we must make a multiclass classifier. There are a number of strategies to turn a binary classifier into a multiclass classifier. The two we'll focus on here are OvR and OvO. \n",
    "\n",
    "#### OvR (One vs Rest)\n",
    "\n",
    "OvR strategy is rather simple and involves training 10 different binary classifiers and essentially running your image through all 10 and choosing the one where it scores the highest. These are best for large datasets as the other involves a lot of computation.\n",
    "\n",
    "\n",
    "#### OvO (One vs One)\n",
    "\n",
    "OvO strategy involves training a binary classifier between each class. Basically one to distinguish between 0 and 1, 0 and 2, another for 1 and 2 and so on. The issue with this pathway is that it requires you to run $ N * (N-1) / 2$ classifiers. This can be very computationally intensive so it is ideal for when the dataset is smaller or there aren't that many classes. The model runs the image through all (in this case 45) classifiers and chooses the class that wins the most duels. \n",
    "\n",
    "Scikit-Learn auto chooses the method depending on the algorithm. The code below will train a Support Vector Machine that uses the OvO strategy."
   ]
  },
  {
   "cell_type": "code",
   "execution_count": 34,
   "id": "1b82d224",
   "metadata": {},
   "outputs": [
    {
     "data": {
      "text/plain": [
       "array([5], dtype=uint8)"
      ]
     },
     "execution_count": 34,
     "metadata": {},
     "output_type": "execute_result"
    }
   ],
   "source": [
    "# Same syntax as previous models. Import SVC (support vector classifier)\n",
    "from sklearn.svm import SVC\n",
    "svm_clf = SVC()\n",
    "svm_clf.fit(X_train, y_train)\n",
    "svm_clf.predict([some_digit]) # Correctly identifies that this is a 5"
   ]
  },
  {
   "cell_type": "code",
   "execution_count": 35,
   "id": "397be522",
   "metadata": {},
   "outputs": [
    {
     "data": {
      "text/plain": [
       "array([[ 1.72501977,  2.72809088,  7.2510018 ,  8.3076379 , -0.31087254,\n",
       "         9.3132482 ,  1.70975103,  2.76765202,  6.23049537,  4.84771048]])"
      ]
     },
     "execution_count": 35,
     "metadata": {},
     "output_type": "execute_result"
    }
   ],
   "source": [
    "# This code will show us the scores for each class when you run the image through\n",
    "some_digit_scores = svm_clf.decision_function([some_digit])\n",
    "some_digit_scores # Notice that the highest value corresponds to the number 5 (start at 0)"
   ]
  },
  {
   "cell_type": "code",
   "execution_count": 36,
   "id": "31e15a2e",
   "metadata": {},
   "outputs": [
    {
     "data": {
      "text/plain": [
       "array([5], dtype=uint8)"
      ]
     },
     "execution_count": 36,
     "metadata": {},
     "output_type": "execute_result"
    }
   ],
   "source": [
    "# To use a OvR strategy simply import OneVsRestClassifier and run it the same way\n",
    "from sklearn.multiclass import OneVsRestClassifier\n",
    "ovr_clf = OneVsRestClassifier(SVC(gamma=\"auto\", random_state=42))\n",
    "ovr_clf.fit(X_train[:1000], y_train[:1000])\n",
    "ovr_clf.predict([some_digit]) # Correctly identifies that this is a 5"
   ]
  },
  {
   "cell_type": "markdown",
   "id": "5af29142",
   "metadata": {},
   "source": [
    "This time let's do the same thing but on an SGD Classifier. Then we'll call the decision_vunction to see the scores."
   ]
  },
  {
   "cell_type": "code",
   "execution_count": 41,
   "id": "13ef97de",
   "metadata": {},
   "outputs": [
    {
     "data": {
      "text/plain": [
       "array([3], dtype=uint8)"
      ]
     },
     "execution_count": 41,
     "metadata": {},
     "output_type": "execute_result"
    }
   ],
   "source": [
    "sgd_clf.fit(X_train, y_train)\n",
    "sgd_clf.predict([some_digit])"
   ]
  },
  {
   "cell_type": "code",
   "execution_count": 42,
   "id": "a08a1f58",
   "metadata": {},
   "outputs": [
    {
     "data": {
      "text/plain": [
       "array([[-31893.03095419, -34419.69069632,  -9530.63950739,\n",
       "          1823.73154031, -22320.14822878,  -1385.80478895,\n",
       "        -26188.91070951, -16147.51323997,  -4604.35491274,\n",
       "        -12050.767298  ]])"
      ]
     },
     "execution_count": 42,
     "metadata": {},
     "output_type": "execute_result"
    }
   ],
   "source": [
    "sgd_clf.decision_function([some_digit])"
   ]
  },
  {
   "cell_type": "markdown",
   "id": "b0f968cf",
   "metadata": {},
   "source": [
    "Unfortunately this model is confused and incorrectly identifies this as a 3. As we can see in the decision function it gives the digit 3 a score of 1823 and the next highest score is 5 with -1385. Let's evaluate the performance using a cross-validation rather than just relying on this example. "
   ]
  },
  {
   "cell_type": "code",
   "execution_count": 39,
   "id": "c1f955f7",
   "metadata": {},
   "outputs": [
    {
     "data": {
      "text/plain": [
       "array([0.87365, 0.85835, 0.8689 ])"
      ]
     },
     "execution_count": 39,
     "metadata": {},
     "output_type": "execute_result"
    }
   ],
   "source": [
    "cross_val_score(sgd_clf, X_train, y_train, cv=3, scoring=\"accuracy\")"
   ]
  },
  {
   "cell_type": "markdown",
   "id": "e973b909",
   "metadata": {},
   "source": [
    "This model gets over 87% on all test folds which is pretty good. Remember a random classifier would score 10% so obviousl this model must be doing something right. As shown in my previous project we can improve this score by scaling the inputs using a Standast Scaler. Below we'll do just that."
   ]
  },
  {
   "cell_type": "code",
   "execution_count": 40,
   "id": "e23aeac4",
   "metadata": {},
   "outputs": [
    {
     "data": {
      "text/plain": [
       "array([0.8983, 0.891 , 0.9018])"
      ]
     },
     "execution_count": 40,
     "metadata": {},
     "output_type": "execute_result"
    }
   ],
   "source": [
    "from sklearn.preprocessing import StandardScaler\n",
    "scaler = StandardScaler()\n",
    "X_train_scaled = scaler.fit_transform(X_train.astype(np.float64))\n",
    "cross_val_score(sgd_clf, X_train_scaled, y_train, cv=3, scoring=\"accuracy\")"
   ]
  },
  {
   "cell_type": "markdown",
   "id": "2e19abef",
   "metadata": {},
   "source": [
    "This version gets almost 90% which is even better than the previous model. The last step for this project is to do an error analysis and possibly come back here to do more model tuning."
   ]
  }
 ],
 "metadata": {
  "kernelspec": {
   "display_name": "Python 3 (ipykernel)",
   "language": "python",
   "name": "python3"
  },
  "language_info": {
   "codemirror_mode": {
    "name": "ipython",
    "version": 3
   },
   "file_extension": ".py",
   "mimetype": "text/x-python",
   "name": "python",
   "nbconvert_exporter": "python",
   "pygments_lexer": "ipython3",
   "version": "3.10.2"
  }
 },
 "nbformat": 4,
 "nbformat_minor": 5
}
